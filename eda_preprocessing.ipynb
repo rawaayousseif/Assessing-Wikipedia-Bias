{
 "cells": [
  {
   "cell_type": "markdown",
   "id": "2113f444",
   "metadata": {},
   "source": [
    "## Introduction\n",
    "\n",
    "Wikipedia, one of the world's most visited websites, operates as a free, crowd-sourced encyclopedia. Its open-editing model enables broad contributions but also makes it susceptible to **linguistic bias**—subjective language or framing that subtly influences how readers perceive topics. While Wikipedia enforces factual accuracy, it lacks rigorous enforcement of **neutral tone**, especially in politically or socially charged topics.\n",
    "\n",
    "This project addresses this challenge by developing an intelligent system to **detect and quantify bias** in Wikipedia articles using modern **Natural Language Processing (NLP)** techniques.\n",
    "\n",
    "### Objectives\n",
    "\n",
    "- Detect biased language in Wikipedia articles using **supervised machine learning**.\n",
    "- Build a **sentence-level and article-level bias scoring function**.\n",
    "- Compare bias levels across topics such as **Politics**, **Religion**, **Science**, and more.\n",
    "- Recommend strategies to enhance content neutrality based on our analysis.\n",
    "- Deploy a prototype interface for real-time bias analysis via **GitHub** and optionally through a **Streamlit/Gradio app**.\n",
    "\n",
    "GitHub repository: [Assessing-Wikipedia-Bias](https://github.com/rawaayousseif/Assessing-Wikipedia-Bias)\n",
    "\n",
    "---\n",
    "\n",
    "### Methodology and Work Plan\n",
    "\n",
    "Our workflow followed these structured steps:\n",
    "\n",
    "1. **Data Preparation**\n",
    "   - Used a Kaggle-provided labeled dataset of ~2,100 Wikipedia article excerpts.\n",
    "   - Cleaned text (lowercasing, stopword removal, lemmatization).\n",
    "   - Generated additional linguistic features such as sentiment scores and sentence counts.\n",
    "\n",
    "2. **Exploratory Data Analysis (EDA)**\n",
    "   - Analyzed label distribution, text length, frequent words by class, sentiment distributions, and sentence complexity.\n",
    "   - Found that biased articles often used emotionally charged or polarizing terms.\n",
    "\n",
    "3. **Model Training**\n",
    "   - Trained multiple classifiers: Logistic Regression, XGBoost, CatBoost, and fine-tuned **BERT**.\n",
    "   - Evaluated performance using **accuracy, recall, F1-score, and AUC-ROC**.\n",
    "   - CatBoost achieved the best balance between recall and precision (AUC = 0.85).\n",
    "\n",
    "4. **Bias Scoring Engine**\n",
    "   - Developed `predict_article_bias()` to compute article-level bias by averaging sentence-level scores.\n",
    "   - Built a BERT-based alternative scoring pipeline to compare transformer performance against classical models.\n",
    "\n",
    "5. **Batch Analysis**\n",
    "   - Scored ~40 real Wikipedia topics categorized into Politics, Science, Religion, Economy, and Social Issues.\n",
    "   - Calculated average bias scores per category and identified most/least biased topics.\n",
    "\n",
    "6. **Model Comparison**\n",
    "   - Ran both CatBoost and BERT models on the same topics.\n",
    "   - Observed agreement on most topics but BERT showed more conservative scoring.\n",
    "\n",
    "7. **Deployment and Visualization **\n",
    "   - Code, models, and results published on GitHub.\n",
    "   - Planning a **Streamlit web app** to allow users to paste article text and receive real-time bias scores with sentence-level analysis.\n",
    "   - Optional REST API and multilingual support will be considered for future extensions.\n",
    "\n",
    "---\n",
    "\n",
    "This introduction provides a comprehensive overview of the project’s goals, workflow, and outputs. Let me know if you'd like to include diagrams or a task timeline as well.\n"
   ]
  },
  {
   "cell_type": "code",
   "execution_count": 2,
   "id": "77d3b89a",
   "metadata": {},
   "outputs": [
    {
     "name": "stdout",
     "output_type": "stream",
     "text": [
      "<class 'pandas.core.frame.DataFrame'>\n",
      "RangeIndex: 2096 entries, 0 to 2095\n",
      "Data columns (total 12 columns):\n",
      " #   Column                   Non-Null Count  Dtype  \n",
      "---  ------                   --------------  -----  \n",
      " 0   author                   2096 non-null   object \n",
      " 1   published                2096 non-null   object \n",
      " 2   title                    2096 non-null   object \n",
      " 3   text                     2050 non-null   object \n",
      " 4   language                 2095 non-null   object \n",
      " 5   site_url                 2095 non-null   object \n",
      " 6   main_img_url             2095 non-null   object \n",
      " 7   type                     2095 non-null   object \n",
      " 8   label                    2095 non-null   object \n",
      " 9   title_without_stopwords  2094 non-null   object \n",
      " 10  text_without_stopwords   2046 non-null   object \n",
      " 11  hasImage                 2095 non-null   float64\n",
      "dtypes: float64(1), object(11)\n",
      "memory usage: 196.6+ KB\n"
     ]
    },
    {
     "data": {
      "text/plain": [
       "(                 author                      published  \\\n",
       " 0     Barracuda Brigade  2016-10-26T21:41:00.000+03:00   \n",
       " 1  reasoning with facts  2016-10-29T08:47:11.259+03:00   \n",
       " 2     Barracuda Brigade  2016-10-31T01:41:49.479+02:00   \n",
       " 3                Fed Up  2016-11-01T05:22:00.000+02:00   \n",
       " 4                Fed Up  2016-11-01T21:56:00.000+02:00   \n",
       " \n",
       "                                                title  \\\n",
       " 0  muslims busted they stole millions in govt ben...   \n",
       " 1  re why did attorney general loretta lynch plea...   \n",
       " 2  breaking weiner cooperating with fbi on hillar...   \n",
       " 3  pin drop speech by father of daughter kidnappe...   \n",
       " 4  fantastic trumps  point plan to reform healthc...   \n",
       " \n",
       "                                                 text language  \\\n",
       " 0  print they should pay all the back all the mon...  english   \n",
       " 1  why did attorney general loretta lynch plead t...  english   \n",
       " 2  red state  \\nfox news sunday reported this mor...  english   \n",
       " 3  email kayla mueller was a prisoner and torture...  english   \n",
       " 4  email healthcare reform to make america great ...  english   \n",
       " \n",
       "               site_url                                       main_img_url  \\\n",
       " 0  100percentfedup.com  http://bb4sp.com/wp-content/uploads/2016/10/Fu...   \n",
       " 1  100percentfedup.com  http://bb4sp.com/wp-content/uploads/2016/10/Fu...   \n",
       " 2  100percentfedup.com  http://bb4sp.com/wp-content/uploads/2016/10/Fu...   \n",
       " 3  100percentfedup.com  http://100percentfedup.com/wp-content/uploads/...   \n",
       " 4  100percentfedup.com  http://100percentfedup.com/wp-content/uploads/...   \n",
       " \n",
       "    type label                            title_without_stopwords  \\\n",
       " 0  bias  Real        muslims busted stole millions govt benefits   \n",
       " 1  bias  Real         attorney general loretta lynch plead fifth   \n",
       " 2  bias  Real  breaking weiner cooperating fbi hillary email ...   \n",
       " 3  bias  Real  pin drop speech father daughter kidnapped kill...   \n",
       " 4  bias  Real  fantastic trumps point plan reform healthcare ...   \n",
       " \n",
       "                               text_without_stopwords  hasImage  \n",
       " 0  print pay back money plus interest entire fami...       1.0  \n",
       " 1  attorney general loretta lynch plead fifth bar...       1.0  \n",
       " 2  red state fox news sunday reported morning ant...       1.0  \n",
       " 3  email kayla mueller prisoner tortured isis cha...       1.0  \n",
       " 4  email healthcare reform make america great sin...       1.0  ,\n",
       " None)"
      ]
     },
     "execution_count": 2,
     "metadata": {},
     "output_type": "execute_result"
    }
   ],
   "source": [
    "import pandas as pd\n",
    "\n",
    "# Load the dataset to inspect structure\n",
    "file_path = \"articles.csv\"  \n",
    "df = pd.read_csv(file_path)\n",
    "\n",
    "# Show first few rows and basic info\n",
    "df.head(), df.info()\n"
   ]
  },
  {
   "cell_type": "code",
   "execution_count": 3,
   "id": "6e559fce",
   "metadata": {},
   "outputs": [],
   "source": [
    "# Drop rows with missing text or label\n",
    "df = df[df['text'].notnull() & df['label'].notnull()]\n",
    "\n",
    "# Encode 'biased' = 1, 'unbiased' = 0\n",
    "df['label'] = df['label'].map({'biased': 1, 'unbiased': 0})\n"
   ]
  },
  {
   "cell_type": "code",
   "execution_count": 4,
   "id": "df02f546",
   "metadata": {},
   "outputs": [
    {
     "name": "stderr",
     "output_type": "stream",
     "text": [
      "[nltk_data] Downloading package stopwords to\n",
      "[nltk_data]     C:\\Users\\Rawaa/nltk_data...\n",
      "[nltk_data]   Package stopwords is already up-to-date!\n"
     ]
    }
   ],
   "source": [
    "import re\n",
    "import nltk\n",
    "from nltk.corpus import stopwords\n",
    "\n",
    "nltk.download('stopwords')\n",
    "stop_words = set(stopwords.words('english'))\n",
    "\n",
    "def clean_text(text):\n",
    "    text = str(text).lower()\n",
    "    text = re.sub(r'[^a-z\\s]', '', text)  # remove punctuation\n",
    "    text = re.sub(r'\\s+', ' ', text)      # normalize spaces\n",
    "    words = [w for w in text.split() if w not in stop_words]\n",
    "    return ' '.join(words)\n",
    "\n",
    "df['clean_text'] = df['text'].apply(clean_text)\n"
   ]
  },
  {
   "cell_type": "code",
   "execution_count": 5,
   "id": "edf0a33b",
   "metadata": {},
   "outputs": [
    {
     "data": {
      "text/plain": [
       "author                        0\n",
       "published                     0\n",
       "title                         0\n",
       "text                          0\n",
       "language                      0\n",
       "site_url                      0\n",
       "main_img_url                  0\n",
       "type                          0\n",
       "label                      2050\n",
       "title_without_stopwords       1\n",
       "text_without_stopwords        4\n",
       "hasImage                      0\n",
       "clean_text                    0\n",
       "dtype: int64"
      ]
     },
     "execution_count": 5,
     "metadata": {},
     "output_type": "execute_result"
    }
   ],
   "source": [
    "# How many missing values in each column?\n",
    "df.isnull().sum()\n"
   ]
  },
  {
   "cell_type": "code",
   "execution_count": 6,
   "id": "956d416d",
   "metadata": {},
   "outputs": [
    {
     "data": {
      "text/plain": [
       "label\n",
       "NaN    2050\n",
       "Name: count, dtype: int64"
      ]
     },
     "execution_count": 6,
     "metadata": {},
     "output_type": "execute_result"
    }
   ],
   "source": [
    "df['label'].value_counts(dropna=False)\n"
   ]
  },
  {
   "cell_type": "code",
   "execution_count": 7,
   "id": "2ae649dd",
   "metadata": {},
   "outputs": [],
   "source": [
    "df = df[df['label'].notnull()]\n"
   ]
  },
  {
   "cell_type": "code",
   "execution_count": 8,
   "id": "e444162c",
   "metadata": {},
   "outputs": [
    {
     "data": {
      "text/plain": [
       "Series([], Name: count, dtype: int64)"
      ]
     },
     "execution_count": 8,
     "metadata": {},
     "output_type": "execute_result"
    }
   ],
   "source": [
    "df['label'].value_counts()\n"
   ]
  },
  {
   "cell_type": "code",
   "execution_count": 9,
   "id": "b59b51fe",
   "metadata": {},
   "outputs": [
    {
     "data": {
      "text/plain": [
       "array([], dtype=float64)"
      ]
     },
     "execution_count": 9,
     "metadata": {},
     "output_type": "execute_result"
    }
   ],
   "source": [
    "df['label'].unique()\n"
   ]
  },
  {
   "cell_type": "code",
   "execution_count": 10,
   "id": "763a528e",
   "metadata": {},
   "outputs": [],
   "source": [
    "df = df[df['label'].isin(['biased', 'unbiased'])]  # Adjust values as needed\n",
    "df['label'] = df['label'].map({'biased': 1, 'unbiased': 0})\n"
   ]
  },
  {
   "cell_type": "code",
   "execution_count": 11,
   "id": "ecab88a5",
   "metadata": {},
   "outputs": [
    {
     "name": "stdout",
     "output_type": "stream",
     "text": [
      "🧾 Shape: (0, 13)\n",
      "\n",
      "📌 Column Info:\n",
      "author                      object\n",
      "published                   object\n",
      "title                       object\n",
      "text                        object\n",
      "language                    object\n",
      "site_url                    object\n",
      "main_img_url                object\n",
      "type                        object\n",
      "label                        int64\n",
      "title_without_stopwords     object\n",
      "text_without_stopwords      object\n",
      "hasImage                   float64\n",
      "clean_text                  object\n",
      "dtype: object\n",
      "\n",
      "🔍 Missing Values:\n",
      "author                     0\n",
      "published                  0\n",
      "title                      0\n",
      "text                       0\n",
      "language                   0\n",
      "site_url                   0\n",
      "main_img_url               0\n",
      "type                       0\n",
      "label                      0\n",
      "title_without_stopwords    0\n",
      "text_without_stopwords     0\n",
      "hasImage                   0\n",
      "clean_text                 0\n",
      "dtype: int64\n",
      "\n",
      "🔑 Unique Values Sample:\n",
      "author: []\n",
      "published: []\n",
      "title: []\n",
      "text: []\n",
      "language: []\n",
      "site_url: []\n",
      "main_img_url: []\n",
      "type: []\n",
      "label: []\n",
      "title_without_stopwords: []\n",
      "text_without_stopwords: []\n",
      "hasImage: []\n",
      "clean_text: []\n",
      "\n",
      "🧠 'label' column value counts (dropna=False):\n",
      "Series([], Name: count, dtype: int64)\n",
      "\n",
      "✅ Valid labeled rows: 0\n"
     ]
    }
   ],
   "source": [
    "# 1. Basic shape\n",
    "print(f\"🧾 Shape: {df.shape}\")\n",
    "\n",
    "# 2. Column names and data types\n",
    "print(\"\\n📌 Column Info:\")\n",
    "print(df.dtypes)\n",
    "\n",
    "# 3. Missing values per column\n",
    "print(\"\\n🔍 Missing Values:\")\n",
    "print(df.isnull().sum())\n",
    "\n",
    "# 4. Unique values per column (sample)\n",
    "print(\"\\n🔑 Unique Values Sample:\")\n",
    "for col in df.columns:\n",
    "    print(f\"{col}: {df[col].dropna().unique()[:5]}\")  # Show first 5 unique values\n",
    "\n",
    "# 5. Check how many rows have any label at all\n",
    "print(\"\\n🧠 'label' column value counts (dropna=False):\")\n",
    "print(df['label'].value_counts(dropna=False))\n",
    "\n",
    "# 6. How many rows are fully usable (text + label)\n",
    "df_valid = df[df['text'].notnull() & df['label'].notnull()]\n",
    "print(f\"\\n✅ Valid labeled rows: {len(df_valid)}\")"
   ]
  },
  {
   "cell_type": "code",
   "execution_count": 12,
   "id": "ce69e662",
   "metadata": {},
   "outputs": [
    {
     "name": "stdout",
     "output_type": "stream",
     "text": [
      "(2096, 12)\n"
     ]
    },
    {
     "data": {
      "text/html": [
       "<div>\n",
       "<style scoped>\n",
       "    .dataframe tbody tr th:only-of-type {\n",
       "        vertical-align: middle;\n",
       "    }\n",
       "\n",
       "    .dataframe tbody tr th {\n",
       "        vertical-align: top;\n",
       "    }\n",
       "\n",
       "    .dataframe thead th {\n",
       "        text-align: right;\n",
       "    }\n",
       "</style>\n",
       "<table border=\"1\" class=\"dataframe\">\n",
       "  <thead>\n",
       "    <tr style=\"text-align: right;\">\n",
       "      <th></th>\n",
       "      <th>author</th>\n",
       "      <th>published</th>\n",
       "      <th>title</th>\n",
       "      <th>text</th>\n",
       "      <th>language</th>\n",
       "      <th>site_url</th>\n",
       "      <th>main_img_url</th>\n",
       "      <th>type</th>\n",
       "      <th>label</th>\n",
       "      <th>title_without_stopwords</th>\n",
       "      <th>text_without_stopwords</th>\n",
       "      <th>hasImage</th>\n",
       "    </tr>\n",
       "  </thead>\n",
       "  <tbody>\n",
       "    <tr>\n",
       "      <th>0</th>\n",
       "      <td>Barracuda Brigade</td>\n",
       "      <td>2016-10-26T21:41:00.000+03:00</td>\n",
       "      <td>muslims busted they stole millions in govt ben...</td>\n",
       "      <td>print they should pay all the back all the mon...</td>\n",
       "      <td>english</td>\n",
       "      <td>100percentfedup.com</td>\n",
       "      <td>http://bb4sp.com/wp-content/uploads/2016/10/Fu...</td>\n",
       "      <td>bias</td>\n",
       "      <td>Real</td>\n",
       "      <td>muslims busted stole millions govt benefits</td>\n",
       "      <td>print pay back money plus interest entire fami...</td>\n",
       "      <td>1.0</td>\n",
       "    </tr>\n",
       "    <tr>\n",
       "      <th>1</th>\n",
       "      <td>reasoning with facts</td>\n",
       "      <td>2016-10-29T08:47:11.259+03:00</td>\n",
       "      <td>re why did attorney general loretta lynch plea...</td>\n",
       "      <td>why did attorney general loretta lynch plead t...</td>\n",
       "      <td>english</td>\n",
       "      <td>100percentfedup.com</td>\n",
       "      <td>http://bb4sp.com/wp-content/uploads/2016/10/Fu...</td>\n",
       "      <td>bias</td>\n",
       "      <td>Real</td>\n",
       "      <td>attorney general loretta lynch plead fifth</td>\n",
       "      <td>attorney general loretta lynch plead fifth bar...</td>\n",
       "      <td>1.0</td>\n",
       "    </tr>\n",
       "    <tr>\n",
       "      <th>2</th>\n",
       "      <td>Barracuda Brigade</td>\n",
       "      <td>2016-10-31T01:41:49.479+02:00</td>\n",
       "      <td>breaking weiner cooperating with fbi on hillar...</td>\n",
       "      <td>red state  \\nfox news sunday reported this mor...</td>\n",
       "      <td>english</td>\n",
       "      <td>100percentfedup.com</td>\n",
       "      <td>http://bb4sp.com/wp-content/uploads/2016/10/Fu...</td>\n",
       "      <td>bias</td>\n",
       "      <td>Real</td>\n",
       "      <td>breaking weiner cooperating fbi hillary email ...</td>\n",
       "      <td>red state fox news sunday reported morning ant...</td>\n",
       "      <td>1.0</td>\n",
       "    </tr>\n",
       "    <tr>\n",
       "      <th>3</th>\n",
       "      <td>Fed Up</td>\n",
       "      <td>2016-11-01T05:22:00.000+02:00</td>\n",
       "      <td>pin drop speech by father of daughter kidnappe...</td>\n",
       "      <td>email kayla mueller was a prisoner and torture...</td>\n",
       "      <td>english</td>\n",
       "      <td>100percentfedup.com</td>\n",
       "      <td>http://100percentfedup.com/wp-content/uploads/...</td>\n",
       "      <td>bias</td>\n",
       "      <td>Real</td>\n",
       "      <td>pin drop speech father daughter kidnapped kill...</td>\n",
       "      <td>email kayla mueller prisoner tortured isis cha...</td>\n",
       "      <td>1.0</td>\n",
       "    </tr>\n",
       "    <tr>\n",
       "      <th>4</th>\n",
       "      <td>Fed Up</td>\n",
       "      <td>2016-11-01T21:56:00.000+02:00</td>\n",
       "      <td>fantastic trumps  point plan to reform healthc...</td>\n",
       "      <td>email healthcare reform to make america great ...</td>\n",
       "      <td>english</td>\n",
       "      <td>100percentfedup.com</td>\n",
       "      <td>http://100percentfedup.com/wp-content/uploads/...</td>\n",
       "      <td>bias</td>\n",
       "      <td>Real</td>\n",
       "      <td>fantastic trumps point plan reform healthcare ...</td>\n",
       "      <td>email healthcare reform make america great sin...</td>\n",
       "      <td>1.0</td>\n",
       "    </tr>\n",
       "  </tbody>\n",
       "</table>\n",
       "</div>"
      ],
      "text/plain": [
       "                 author                      published  \\\n",
       "0     Barracuda Brigade  2016-10-26T21:41:00.000+03:00   \n",
       "1  reasoning with facts  2016-10-29T08:47:11.259+03:00   \n",
       "2     Barracuda Brigade  2016-10-31T01:41:49.479+02:00   \n",
       "3                Fed Up  2016-11-01T05:22:00.000+02:00   \n",
       "4                Fed Up  2016-11-01T21:56:00.000+02:00   \n",
       "\n",
       "                                               title  \\\n",
       "0  muslims busted they stole millions in govt ben...   \n",
       "1  re why did attorney general loretta lynch plea...   \n",
       "2  breaking weiner cooperating with fbi on hillar...   \n",
       "3  pin drop speech by father of daughter kidnappe...   \n",
       "4  fantastic trumps  point plan to reform healthc...   \n",
       "\n",
       "                                                text language  \\\n",
       "0  print they should pay all the back all the mon...  english   \n",
       "1  why did attorney general loretta lynch plead t...  english   \n",
       "2  red state  \\nfox news sunday reported this mor...  english   \n",
       "3  email kayla mueller was a prisoner and torture...  english   \n",
       "4  email healthcare reform to make america great ...  english   \n",
       "\n",
       "              site_url                                       main_img_url  \\\n",
       "0  100percentfedup.com  http://bb4sp.com/wp-content/uploads/2016/10/Fu...   \n",
       "1  100percentfedup.com  http://bb4sp.com/wp-content/uploads/2016/10/Fu...   \n",
       "2  100percentfedup.com  http://bb4sp.com/wp-content/uploads/2016/10/Fu...   \n",
       "3  100percentfedup.com  http://100percentfedup.com/wp-content/uploads/...   \n",
       "4  100percentfedup.com  http://100percentfedup.com/wp-content/uploads/...   \n",
       "\n",
       "   type label                            title_without_stopwords  \\\n",
       "0  bias  Real        muslims busted stole millions govt benefits   \n",
       "1  bias  Real         attorney general loretta lynch plead fifth   \n",
       "2  bias  Real  breaking weiner cooperating fbi hillary email ...   \n",
       "3  bias  Real  pin drop speech father daughter kidnapped kill...   \n",
       "4  bias  Real  fantastic trumps point plan reform healthcare ...   \n",
       "\n",
       "                              text_without_stopwords  hasImage  \n",
       "0  print pay back money plus interest entire fami...       1.0  \n",
       "1  attorney general loretta lynch plead fifth bar...       1.0  \n",
       "2  red state fox news sunday reported morning ant...       1.0  \n",
       "3  email kayla mueller prisoner tortured isis cha...       1.0  \n",
       "4  email healthcare reform make america great sin...       1.0  "
      ]
     },
     "execution_count": 12,
     "metadata": {},
     "output_type": "execute_result"
    }
   ],
   "source": [
    "df = pd.read_csv(\"C:/Users/Rawaa/OneDrive/Documents/GitHub/Assessing-Wikipedia-Bias/articles.csv\", encoding='latin1')\n",
    "print(df.shape)\n",
    "df.head()\n",
    "\n"
   ]
  },
  {
   "cell_type": "code",
   "execution_count": 13,
   "id": "86c7f85b",
   "metadata": {},
   "outputs": [
    {
     "data": {
      "text/plain": [
       "label\n",
       "Fake    1294\n",
       "Real     801\n",
       "NaN        1\n",
       "Name: count, dtype: int64"
      ]
     },
     "execution_count": 13,
     "metadata": {},
     "output_type": "execute_result"
    }
   ],
   "source": [
    "df['label'].value_counts(dropna=False)\n"
   ]
  },
  {
   "cell_type": "code",
   "execution_count": 14,
   "id": "22b4d0ba",
   "metadata": {},
   "outputs": [
    {
     "name": "stdout",
     "output_type": "stream",
     "text": [
      "label\n",
      "1    1294\n",
      "0     801\n",
      "Name: count, dtype: int64\n"
     ]
    }
   ],
   "source": [
    "# Drop the NaN row\n",
    "df = df[df['label'].notnull()]\n",
    "\n",
    "# Encode labels\n",
    "df['label'] = df['label'].map({'Fake': 1, 'Real': 0})\n",
    "\n",
    "# Confirm conversion\n",
    "print(df['label'].value_counts())\n"
   ]
  },
  {
   "cell_type": "markdown",
   "id": "844fa78f",
   "metadata": {},
   "source": [
    "Exploratory Data Analysis (EDA)"
   ]
  },
  {
   "cell_type": "code",
   "execution_count": 15,
   "id": "96e5f2ea",
   "metadata": {},
   "outputs": [
    {
     "data": {
      "image/png": "[encoded data removed]",
      "text/plain": [
       "<Figure size 640x480 with 1 Axes>"
      ]
     },
     "metadata": {},
     "output_type": "display_data"
    }
   ],
   "source": [
    "# 1. Plot Class Distribution\n",
    "import seaborn as sns\n",
    "import matplotlib.pyplot as plt\n",
    "\n",
    "sns.countplot(x='label', data=df)\n",
    "plt.xticks([0, 1], ['Unbiased (0)', 'Biased (1)'])\n",
    "plt.title('Class Distribution')\n",
    "plt.xlabel('Label')\n",
    "plt.ylabel('Count')\n",
    "plt.show()\n"
   ]
  },
  {
   "cell_type": "code",
   "execution_count": 16,
   "id": "2ee3545d",
   "metadata": {},
   "outputs": [
    {
     "data": {
      "text/plain": [
       "count    2095.000000\n",
       "mean      483.558950\n",
       "std       633.593683\n",
       "min         1.000000\n",
       "25%       102.500000\n",
       "50%       304.000000\n",
       "75%       615.000000\n",
       "max      5828.000000\n",
       "Name: text_length, dtype: float64"
      ]
     },
     "execution_count": 16,
     "metadata": {},
     "output_type": "execute_result"
    }
   ],
   "source": [
    "# 2. Check Text Lengths\n",
    "df['text_length'] = df['text'].apply(lambda x: len(str(x).split()))\n",
    "df['text_length'].describe()\n"
   ]
  },
  {
   "cell_type": "code",
   "execution_count": 17,
   "id": "7aaee015",
   "metadata": {},
   "outputs": [
    {
     "data": {
      "image/png": "[encoded data removed]",
      "text/plain": [
       "<Figure size 640x480 with 1 Axes>"
      ]
     },
     "metadata": {},
     "output_type": "display_data"
    }
   ],
   "source": [
    "sns.histplot(df['text_length'], bins=50, kde=True)\n",
    "plt.title('Distribution of Article Text Lengths')\n",
    "plt.xlabel('Word Count')\n",
    "plt.ylabel('Frequency')\n",
    "plt.show()\n"
   ]
  },
  {
   "cell_type": "code",
   "execution_count": 18,
   "id": "484a4746",
   "metadata": {},
   "outputs": [
    {
     "data": {
      "image/png": "[encoded data removed]",
      "text/plain": [
       "<Figure size 640x480 with 1 Axes>"
      ]
     },
     "metadata": {},
     "output_type": "display_data"
    }
   ],
   "source": [
    "# 3. Article Length by Label\n",
    "import seaborn as sns\n",
    "import matplotlib.pyplot as plt\n",
    "\n",
    "df['text_length'] = df['text'].apply(lambda x: len(str(x).split()))\n",
    "\n",
    "sns.boxplot(x='label', y='text_length', data=df)\n",
    "plt.xticks([0, 1], ['Unbiased', 'Biased'])\n",
    "plt.title('Article Lengths by Label')\n",
    "plt.xlabel('Label')\n",
    "plt.ylabel('Number of Words')\n",
    "plt.show()\n"
   ]
  },
  {
   "cell_type": "code",
   "execution_count": 19,
   "id": "919fe839",
   "metadata": {},
   "outputs": [
    {
     "name": "stderr",
     "output_type": "stream",
     "text": [
      "[nltk_data] Downloading package stopwords to\n",
      "[nltk_data]     C:\\Users\\Rawaa/nltk_data...\n",
      "[nltk_data]   Package stopwords is already up-to-date!\n"
     ]
    },
    {
     "data": {
      "image/png": "[encoded data removed]",
      "text/plain": [
       "<Figure size 1500x600 with 2 Axes>"
      ]
     },
     "metadata": {},
     "output_type": "display_data"
    }
   ],
   "source": [
    "import re\n",
    "from collections import Counter\n",
    "import nltk\n",
    "from nltk.corpus import stopwords\n",
    "nltk.download('stopwords')\n",
    "\n",
    "stop_words = set(stopwords.words('english'))\n",
    "\n",
    "def clean_words(text):\n",
    "    text = str(text)\n",
    "    words = re.findall(r'\\b[a-z]{3,}\\b', text.lower())\n",
    "    return [w for w in words if w not in stop_words]\n",
    "\n",
    "# Apply the function\n",
    "biased_words = df[df['label'] == 1]['text'].apply(clean_words).sum()\n",
    "unbiased_words = df[df['label'] == 0]['text'].apply(clean_words).sum()\n",
    "\n",
    "# Count top 20 words\n",
    "biased_counts = Counter(biased_words).most_common(20)\n",
    "unbiased_counts = Counter(unbiased_words).most_common(20)\n",
    "\n",
    "# Create dataframes\n",
    "biased_df = pd.DataFrame(biased_counts, columns=['word', 'count'])\n",
    "unbiased_df = pd.DataFrame(unbiased_counts, columns=['word', 'count'])\n",
    "\n",
    "# Plot\n",
    "import matplotlib.pyplot as plt\n",
    "import seaborn as sns\n",
    "\n",
    "fig, axes = plt.subplots(1, 2, figsize=(15, 6))\n",
    "sns.barplot(x='count', y='word', data=biased_df, ax=axes[0])\n",
    "axes[0].set_title('Top Words in Biased Articles')\n",
    "\n",
    "sns.barplot(x='count', y='word', data=unbiased_df, ax=axes[1])\n",
    "axes[1].set_title('Top Words in Unbiased Articles')\n",
    "\n",
    "plt.tight_layout()\n",
    "plt.show()\n"
   ]
  },
  {
   "cell_type": "code",
   "execution_count": 20,
   "id": "7d7c01c7",
   "metadata": {},
   "outputs": [
    {
     "name": "stderr",
     "output_type": "stream",
     "text": [
      "[nltk_data] Downloading package vader_lexicon to\n",
      "[nltk_data]     C:\\Users\\Rawaa/nltk_data...\n",
      "[nltk_data]   Package vader_lexicon is already up-to-date!\n"
     ]
    },
    {
     "data": {
      "image/png": "[encoded data removed]",
      "text/plain": [
       "<Figure size 640x480 with 1 Axes>"
      ]
     },
     "metadata": {},
     "output_type": "display_data"
    }
   ],
   "source": [
    "# 5. Sentiment Analysis (Biased vs. Unbiased)\n",
    "from nltk.sentiment import SentimentIntensityAnalyzer\n",
    "nltk.download('vader_lexicon')\n",
    "\n",
    "sia = SentimentIntensityAnalyzer()\n",
    "\n",
    "df['sentiment_score'] = df['text'].apply(lambda x: sia.polarity_scores(str(x))['compound'])\n",
    "\n",
    "sns.boxplot(x='label', y='sentiment_score', data=df)\n",
    "plt.xticks([0, 1], ['Unbiased', 'Biased'])\n",
    "plt.title('Sentiment Scores by Label')\n",
    "plt.show()\n"
   ]
  },
  {
   "cell_type": "code",
   "execution_count": 21,
   "id": "e917807a",
   "metadata": {},
   "outputs": [],
   "source": [
    "import nltk\n",
    "from nltk.tokenize.punkt import PunktSentenceTokenizer\n",
    "import pickle\n",
    "\n",
    "# Load the tokenizer manually from the file\n",
    "with open(r\"C:\\Users\\Rawaa\\OneDrive\\Documents\\GitHub\\Assessing-Wikipedia-Bias\\punkt\\english.pickle\", 'rb') as f:\n",
    "    tokenizer = pickle.load(f)\n"
   ]
  },
  {
   "cell_type": "code",
   "execution_count": 22,
   "id": "ffcfa12b",
   "metadata": {},
   "outputs": [],
   "source": [
    "df['sentence_count'] = df['text'].apply(lambda x: len(tokenizer.tokenize(str(x))))\n"
   ]
  },
  {
   "cell_type": "code",
   "execution_count": 23,
   "id": "749e7724",
   "metadata": {},
   "outputs": [
    {
     "data": {
      "image/png": "[encoded data removed]",
      "text/plain": [
       "<Figure size 1000x600 with 1 Axes>"
      ]
     },
     "metadata": {},
     "output_type": "display_data"
    }
   ],
   "source": [
    "import seaborn as sns\n",
    "import matplotlib.pyplot as plt\n",
    "\n",
    "plt.figure(figsize=(10, 6))\n",
    "sns.boxplot(x='label', y='sentence_count', data=df)\n",
    "plt.title('Number of Sentences per Article')\n",
    "plt.xticks([0, 1], ['Unbiased', 'Biased'])\n",
    "plt.ylabel('Sentence Count')\n",
    "plt.show()\n"
   ]
  },
  {
   "cell_type": "markdown",
   "id": "8955b8f0",
   "metadata": {},
   "source": [
    "## Exploratory Data Analysis (EDA) Summary\n",
    "\n",
    "Our dataset consists of 2,095 Wikipedia-style articles labeled as either **Biased (1)** or **Unbiased (0)**. The goal of this EDA was to uncover structural and linguistic patterns that distinguish biased writing from objective reporting.\n",
    "\n",
    "### Class Distribution\n",
    "- **Biased articles dominate** the dataset:  \n",
    "  - 1,294 biased (61.7%)  \n",
    "  - 801 unbiased (38.3%)  \n",
    "- This slight class imbalance may affect model performance and should be addressed during model training (e.g., using class weights or resampling).\n",
    "\n",
    "### Article Length Analysis\n",
    "- **Word count varies significantly** across articles, ranging from 1 to 5,828 words.\n",
    "- The **median article length** is approximately **304 words**, with a long right tail of very lengthy articles.\n",
    "- No substantial difference in word count distribution was observed between biased and unbiased articles.\n",
    "\n",
    "### Sentence Structure\n",
    "- Sentence tokenization revealed **unexpectedly low sentence counts**, often between 1–3 sentences per article.\n",
    "- This is likely due to:\n",
    "  - Poor punctuation or formatting in some text entries.\n",
    "  - Informal article structures or scraped web data.\n",
    "- Manual or regex-based sentence normalization may be necessary to improve linguistic feature extraction.\n",
    "\n",
    "### Top Word Frequencies\n",
    "- **Biased articles** frequently reference political figures and charged terms such as:\n",
    "  `clinton`, `trump`, `said`, `would`, `campaign`, `election`.\n",
    "- **Unbiased articles** also mention similar entities but show slightly more balanced use of terms like:\n",
    "  `media`, `obama`, `state`, `donald`, `president`, `get`.\n",
    "\n",
    "### Sentiment Analysis\n",
    "- Sentiment polarity ranges from **-1 (very negative)** to **+1 (very positive)**.\n",
    "- Biased articles show a **wider range of sentiment** with more extreme values, while unbiased articles cluster more neutrally.\n",
    "- This supports the hypothesis that biased articles tend to be **emotionally charged**.\n",
    "\n",
    "## Key Takeaways\n",
    "\n",
    "- The dataset has mild class imbalance and wide variance in article lengths.\n",
    "- Biased articles often use more emotional or politically loaded language.\n",
    "- Text formatting issues may be reducing sentence-level insight; preprocessing enhancements are recommended.\n",
    "- Linguistic and sentiment-based features show promise for distinguishing biased content and will be useful in model training.\n"
   ]
  },
  {
   "cell_type": "code",
   "execution_count": 24,
   "id": "d88e4c0e",
   "metadata": {},
   "outputs": [
    {
     "name": "stdout",
     "output_type": "stream",
     "text": [
      "Index(['author', 'published', 'title', 'text', 'language', 'site_url',\n",
      "       'main_img_url', 'type', 'label', 'title_without_stopwords',\n",
      "       'text_without_stopwords', 'hasImage', 'text_length', 'sentiment_score',\n",
      "       'sentence_count', 'clean_text'],\n",
      "      dtype='object')\n"
     ]
    }
   ],
   "source": [
    "df['clean_text'] = df['text'].apply(clean_text)\n",
    "texts = df['clean_text'].fillna('')\n",
    "print(df.columns)\n"
   ]
  },
  {
   "cell_type": "code",
   "execution_count": 25,
   "id": "83d780c5",
   "metadata": {},
   "outputs": [],
   "source": [
    "#TF-IDF Feature Extraction\n",
    "from sklearn.feature_extraction.text import TfidfVectorizer\n",
    "\n",
    "# Fill missing values just in case\n",
    "texts = df['clean_text'].fillna('')\n",
    "\n",
    "vectorizer = TfidfVectorizer(max_features=5000, ngram_range=(1, 2), stop_words='english')\n",
    "X = vectorizer.fit_transform(texts)\n",
    "\n",
    "y = df['label']\n"
   ]
  },
  {
   "cell_type": "code",
   "execution_count": 26,
   "id": "d6e222a9",
   "metadata": {},
   "outputs": [],
   "source": [
    "from sklearn.model_selection import train_test_split\n",
    "\n",
    "X_train, X_test, y_train, y_test = train_test_split(\n",
    "    X, y, test_size=0.2, random_state=42, stratify=y\n",
    ")\n"
   ]
  },
  {
   "cell_type": "code",
   "execution_count": 27,
   "id": "c2032632",
   "metadata": {},
   "outputs": [
    {
     "name": "stdout",
     "output_type": "stream",
     "text": [
      "              precision    recall  f1-score   support\n",
      "\n",
      "           0       0.64      0.60      0.62       160\n",
      "           1       0.76      0.79      0.78       259\n",
      "\n",
      "    accuracy                           0.72       419\n",
      "   macro avg       0.70      0.70      0.70       419\n",
      "weighted avg       0.72      0.72      0.72       419\n",
      "\n",
      "ROC-AUC: 0.8058277027027028\n"
     ]
    }
   ],
   "source": [
    "# Train Supervised Models (Start with Logistic Regression)\n",
    "from sklearn.linear_model import LogisticRegression\n",
    "from sklearn.metrics import classification_report, roc_auc_score\n",
    "\n",
    "model = LogisticRegression(max_iter=1000, class_weight='balanced')\n",
    "model.fit(X_train, y_train)\n",
    "\n",
    "y_pred = model.predict(X_test)\n",
    "y_prob = model.predict_proba(X_test)[:, 1]\n",
    "\n",
    "print(classification_report(y_test, y_pred))\n",
    "print(\"ROC-AUC:\", roc_auc_score(y_test, y_prob))\n"
   ]
  },
  {
   "cell_type": "code",
   "execution_count": 28,
   "id": "e490be6c",
   "metadata": {},
   "outputs": [
    {
     "name": "stdout",
     "output_type": "stream",
     "text": [
      "              precision    recall  f1-score   support\n",
      "\n",
      "           0       0.67      0.57      0.62       160\n",
      "           1       0.76      0.82      0.79       259\n",
      "\n",
      "    accuracy                           0.73       419\n",
      "   macro avg       0.71      0.70      0.70       419\n",
      "weighted avg       0.72      0.73      0.72       419\n",
      "\n",
      "ROC-AUC: 0.8075168918918918\n"
     ]
    }
   ],
   "source": [
    "# Tune Class Weights in Logistic Regression\n",
    "from sklearn.linear_model import LogisticRegression\n",
    "\n",
    "# Assign higher weight to class 0\n",
    "weights = {0: 1.5, 1: 1.0}\n",
    "\n",
    "logreg_tuned = LogisticRegression(max_iter=1000, class_weight=weights)\n",
    "logreg_tuned.fit(X_train, y_train)\n",
    "\n",
    "y_pred = logreg_tuned.predict(X_test)\n",
    "y_prob = logreg_tuned.predict_proba(X_test)[:, 1]\n",
    "\n",
    "from sklearn.metrics import classification_report, roc_auc_score\n",
    "print(classification_report(y_test, y_pred))\n",
    "print(\"ROC-AUC:\", roc_auc_score(y_test, y_prob))\n"
   ]
  },
  {
   "cell_type": "code",
   "execution_count": 29,
   "id": "4c97f387",
   "metadata": {},
   "outputs": [
    {
     "name": "stderr",
     "output_type": "stream",
     "text": [
      "c:\\Users\\Rawaa\\OneDrive\\Documents\\GitHub\\Assessing-Wikipedia-Bias\\venv310\\lib\\site-packages\\xgboost\\training.py:183: UserWarning: [18:24:10] WARNING: C:\\actions-runner\\_work\\xgboost\\xgboost\\src\\learner.cc:738: \n",
      "Parameters: { \"use_label_encoder\" } are not used.\n",
      "\n",
      "  bst.update(dtrain, iteration=i, fobj=obj)\n"
     ]
    },
    {
     "name": "stdout",
     "output_type": "stream",
     "text": [
      "              precision    recall  f1-score   support\n",
      "\n",
      "           0       0.79      0.56      0.65       160\n",
      "           1       0.77      0.91      0.83       259\n",
      "\n",
      "    accuracy                           0.78       419\n",
      "   macro avg       0.78      0.73      0.74       419\n",
      "weighted avg       0.78      0.78      0.77       419\n",
      "\n",
      "ROC-AUC: 0.8279319498069497\n"
     ]
    }
   ],
   "source": [
    "# Train XGBoost or CatBoost\n",
    "import xgboost as xgb\n",
    "\n",
    "xgb_model = xgb.XGBClassifier(scale_pos_weight=0.8,  # downscale class 1 if needed\n",
    "                              max_depth=6, n_estimators=100, learning_rate=0.1,\n",
    "                              use_label_encoder=False, eval_metric='logloss')\n",
    "\n",
    "xgb_model.fit(X_train, y_train)\n",
    "y_pred_xgb = xgb_model.predict(X_test)\n",
    "y_prob_xgb = xgb_model.predict_proba(X_test)[:, 1]\n",
    "\n",
    "print(classification_report(y_test, y_pred_xgb))\n",
    "print(\"ROC-AUC:\", roc_auc_score(y_test, y_prob_xgb))\n"
   ]
  },
  {
   "cell_type": "code",
   "execution_count": 30,
   "id": "fb1dfaf9",
   "metadata": {},
   "outputs": [
    {
     "name": "stdout",
     "output_type": "stream",
     "text": [
      "              precision    recall  f1-score   support\n",
      "\n",
      "           0       0.75      0.61      0.67       160\n",
      "           1       0.78      0.88      0.83       259\n",
      "\n",
      "    accuracy                           0.77       419\n",
      "   macro avg       0.77      0.74      0.75       419\n",
      "weighted avg       0.77      0.77      0.77       419\n",
      "\n",
      "ROC-AUC: 0.8478402509652511\n"
     ]
    }
   ],
   "source": [
    "# CatBoost (handles categorical + better text)\n",
    "from catboost import CatBoostClassifier\n",
    "\n",
    "cat_model = CatBoostClassifier(verbose=0, iterations=200, learning_rate=0.1, class_weights=[1.5, 1.0])\n",
    "cat_model.fit(X_train, y_train)\n",
    "\n",
    "y_pred_cat = cat_model.predict(X_test)\n",
    "y_prob_cat = cat_model.predict_proba(X_test)[:, 1]\n",
    "\n",
    "print(classification_report(y_test, y_pred_cat))\n",
    "print(\"ROC-AUC:\", roc_auc_score(y_test, y_prob_cat))\n"
   ]
  },
  {
   "cell_type": "code",
   "execution_count": 31,
   "id": "1b47d081",
   "metadata": {},
   "outputs": [],
   "source": [
    "import pickle\n",
    "from nltk.tokenize.punkt import PunktSentenceTokenizer\n",
    "\n",
    "# Load from your confirmed path\n",
    "with open(r\"C:\\Users\\Rawaa\\OneDrive\\Documents\\GitHub\\Assessing-Wikipedia-Bias\\punkt\\english.pickle\", 'rb') as f:\n",
    "    tokenizer = pickle.load(f)\n",
    "\n"
   ]
  },
  {
   "cell_type": "code",
   "execution_count": 32,
   "id": "f89ee7f8",
   "metadata": {},
   "outputs": [],
   "source": [
    "# Define the Bias Scoring Function\n",
    "def predict_article_bias(article_text):\n",
    "    sentences = tokenizer.tokenize(article_text)\n",
    "    cleaned = [clean_text(s) for s in sentences]\n",
    "    vec = vectorizer.transform(cleaned)\n",
    "    probs = cat_model.predict_proba(vec)[:, 1]\n",
    "    return round(probs.mean(), 2)\n",
    "\n"
   ]
  },
  {
   "cell_type": "code",
   "execution_count": 33,
   "id": "9213e621",
   "metadata": {},
   "outputs": [
    {
     "name": "stdout",
     "output_type": "stream",
     "text": [
      "Bias Score: 0.7\n"
     ]
    }
   ],
   "source": [
    "sample_text = \"\"\"\n",
    "The government implemented a policy change today. While some citizens praised the move, others expressed strong disapproval. \n",
    "This sparked heated debate among analysts, with conflicting opinions emerging from different news outlets.\n",
    "\"\"\"\n",
    "\n",
    "print(\"Bias Score:\", predict_article_bias(sample_text))\n",
    "\n"
   ]
  },
  {
   "cell_type": "code",
   "execution_count": 34,
   "id": "abbc6d89",
   "metadata": {},
   "outputs": [
    {
     "name": "stdout",
     "output_type": "stream",
     "text": [
      "Bias Score: 0.68\n"
     ]
    }
   ],
   "source": [
    "#  Integrate the Wikipedia API\n",
    "import wikipedia\n",
    "\n",
    "def get_wikipedia_article(title):\n",
    "    try:\n",
    "        content = wikipedia.page(title).content\n",
    "        return content\n",
    "    except Exception as e:\n",
    "        print(f\"Error fetching article: {e}\")\n",
    "        return None\n",
    "\n",
    "# Example\n",
    "article_text = get_wikipedia_article(\"Climate change\")\n",
    "if article_text:\n",
    "    print(\"Bias Score:\", predict_article_bias(article_text))\n"
   ]
  },
  {
   "cell_type": "code",
   "execution_count": 35,
   "id": "06e87ee4",
   "metadata": {},
   "outputs": [],
   "source": [
    "def get_wikipedia_article(title):\n",
    "    try:\n",
    "        clean_title = title.strip().title()\n",
    "        results = wikipedia.search(clean_title)\n",
    "        print(f\"🔍 Search for '{clean_title}' → {results}\")\n",
    "        \n",
    "        if not results:\n",
    "            print(f\"❌ No results found for: {title}\")\n",
    "            return None\n",
    "\n",
    "        # ✅ FIXED: force exact title resolution with preload\n",
    "        page = wikipedia.page(title=results[0], auto_suggest=False, preload=True)\n",
    "        return page.content\n",
    "\n",
    "    except wikipedia.exceptions.DisambiguationError as e:\n",
    "        print(f\"⚠️ Disambiguation error for '{title}': Try → {e.options[:3]}\")\n",
    "        return None\n",
    "\n",
    "    except wikipedia.exceptions.PageError:\n",
    "        print(f\"❌ Page not found: '{title}'\")\n",
    "        return None\n",
    "\n",
    "    except Exception as e:\n",
    "        print(f\"🚨 Unexpected error for '{title}': {e}\")\n",
    "        return None\n"
   ]
  },
  {
   "cell_type": "code",
   "execution_count": 36,
   "id": "ffe438d4",
   "metadata": {},
   "outputs": [
    {
     "name": "stdout",
     "output_type": "stream",
     "text": [
      "🔍 Search for 'Mathematics' → ['Mathematics', 'Discrete mathematics', 'History of mathematics', 'Set (mathematics)', 'Function (mathematics)', 'Applied mathematics', 'Everyday Mathematics', 'Matrix (mathematics)', 'Integrated mathematics', 'Mathematical analysis']\n",
      "Mathematics: Bias Score = 0.69\n",
      "🔍 Search for 'Abortion' → ['Abortion', 'Abortion law', 'Abortion in the United States', 'Anti-abortion movements', 'Abortion-rights movement', 'History of abortion', 'Abortion debate', 'Abortion law in the United States by state', 'Miscarriage', 'Abortion in the United Kingdom']\n",
      "Abortion: Bias Score = 0.69\n",
      "🔍 Search for 'Global Warming' → ['Climate change', 'Global warming potential', 'Climate change denial', 'Effects of climate change', 'Scientific consensus on climate change', 'Global warming (disambiguation)', 'Climate change mitigation', 'Global Warming (Pitbull album)', 'Effects of climate change on agriculture', 'Global warming hiatus']\n",
      "Global warming: Bias Score = 0.68\n",
      "🔍 Search for 'United Nations' → ['United Nations', 'Headquarters of the United Nations', 'Member states of the United Nations', 'Flag of the United Nations', 'United Nations System', 'United Nations peacekeeping', 'United Nations geoscheme', 'Charter of the United Nations', 'List of ambassadors of the United States to the United Nations', 'Secretary-General of the United Nations']\n",
      "United Nations: Bias Score = 0.68\n",
      "🔍 Search for 'Donald Trump' → ['Donald Trump', 'Donald Trump Jr.', 'Family of Donald Trump', 'Business career of Donald Trump', 'Donald Trump and religion', 'Second cabinet of Donald Trump', 'Wealth of Donald Trump', 'Trumpism', 'False or misleading statements by Donald Trump', 'Donald Trump sexual misconduct allegations']\n",
      "Donald Trump: Bias Score = 0.66\n"
     ]
    }
   ],
   "source": [
    "topics = [\n",
    "    \"Mathematics\",\n",
    "    \"Abortion\",\n",
    "    \"Global warming\",\n",
    "    \"United Nations\",\n",
    "    \"Donald Trump\"\n",
    "]\n",
    "\n",
    "for topic in topics:\n",
    "    article = get_wikipedia_article(topic)\n",
    "    if article:\n",
    "        score = predict_article_bias(article)\n",
    "        print(f\"{topic}: Bias Score = {score}\")\n"
   ]
  },
  {
   "cell_type": "code",
   "execution_count": 37,
   "id": "e240a01b",
   "metadata": {},
   "outputs": [
    {
     "name": "stdout",
     "output_type": "stream",
     "text": [
      "🔍 Search for 'Joe Biden' → ['Joe Biden', 'Presidency of Joe Biden', 'Age and health concerns about Joe Biden', 'Family of Joe Biden', 'Cabinet of Joe Biden', 'Inauguration of Joe Biden', 'Beau Biden', 'Joe Biden 2020 presidential campaign', 'Political positions of Joe Biden', 'Withdrawal of Joe Biden from the 2024 United States presidential election']\n",
      "Politics → Joe Biden: 0.66\n",
      "🔍 Search for 'Donald Trump' → ['Donald Trump', 'Donald Trump Jr.', 'Family of Donald Trump', 'Business career of Donald Trump', 'Donald Trump and religion', 'Second cabinet of Donald Trump', 'Wealth of Donald Trump', 'Trumpism', 'False or misleading statements by Donald Trump', 'Donald Trump sexual misconduct allegations']\n",
      "Politics → Donald Trump: 0.66\n",
      "🔍 Search for 'Democratic Party' → ['Democratic Party (United States)', 'New Democratic Party', 'Democratic Party', 'Singapore Democratic Party', 'Democratic-Republican Party', 'Liberal Democratic Party (Japan)', 'Minnesota Democratic–Farmer–Labor Party', '2020 Democratic Party presidential primaries', 'Democratic Party For the People', 'Libertarian Party (Australia)']\n",
      "Politics → Democratic Party: 0.65\n",
      "🔍 Search for 'Republican Party' → ['Republican Party (United States)', 'Democratic-Republican Party', 'Republican Party', 'National Republican Party', 'Factions in the Republican Party (United States)', '2016 Republican Party presidential primaries', \"Republican People's Party\", 'History of the Republican Party (United States)', 'Republican Party of India', '2020 Republican Party presidential primaries']\n",
      "Politics → Republican Party: 0.66\n",
      "🔍 Search for 'Election Fraud' → ['Electoral fraud', 'Election denial movement in the United States', \"Republican reactions to Donald Trump's claims of 2020 election fraud\", '2025 Ecuadorian general election', 'Electoral fraud in the United States', 'Post-election lawsuits related to the 2020 U.S. presidential election', '2020 United States presidential election', 'Attempts to overturn the 2020 United States presidential election', 'Black Axe (confraternity)', '2004 Ukrainian presidential election']\n",
      "Politics → Election fraud: 0.67\n",
      "🔍 Search for 'Impeachment' → ['Impeachment', 'Second impeachment of Donald Trump', 'First impeachment of Donald Trump', 'Impeachment of Bill Clinton', 'Impeachment of Donald Trump', 'Impeachment in the United States', 'Impeachment of Yoon Suk Yeol', 'Efforts to impeach Donald Trump', 'Impeachment of Sara Duterte', 'Article of impeachment']\n",
      "Politics → Impeachment: 0.58\n",
      "🔍 Search for 'Nato' → ['NATO', 'NATO phonetic alphabet', 'Member states of NATO', 'Enlargement of NATO', 'Ukraine–NATO relations', 'NATO bombing of Yugoslavia', '5.56×45mm NATO', '7.62×51mm NATO', 'NATO (disambiguation)', 'Russia–NATO relations']\n",
      "Politics → NATO: 0.65\n",
      "🔍 Search for 'Vladimir Putin' → ['Vladimir Putin', 'Family of Vladimir Putin', 'Public image of Vladimir Putin', 'Russia under Vladimir Putin', 'International Criminal Court arrest warrants for Russian leaders', \"Claims of Vladimir Putin's incapacity and death\", 'Alleged doubles of Vladimir Putin', '2024 Russian presidential election', 'List of international presidential trips made by Vladimir Putin', \"Vladimir Putin's language\"]\n",
      "Politics → Vladimir Putin: 0.67\n",
      "🔍 Search for 'Climate Change' → ['Climate change', 'Paris Agreement', 'Climate change denial', 'Climate change mitigation', 'United Nations Framework Convention on Climate Change', 'United Nations Climate Change Conference', 'Effects of climate change', 'Climate change (disambiguation)', 'Fusion Party (Australia)', 'Intergovernmental Panel on Climate Change']\n",
      "Science → Climate change: 0.68\n",
      "🔍 Search for 'Evolution' → ['Evolution', 'Evolution (Sabrina Carpenter album)', 'EVolution', 'Evolution (disambiguation)', 'Evolutionism', 'The Evolution', 'Mitsubishi Lancer Evolution', 'Convergent evolution', 'Human evolution', 'Cultural evolution']\n",
      "Science → Evolution: 0.69\n",
      "🔍 Search for 'Big Bang' → ['Big Bang', 'The Big Bang Theory', 'List of The Big Bang Theory episodes', 'BigBang (South Korean band)', 'List of The Big Bang Theory franchise characters', 'Big Bang nucleosynthesis', 'A Bigger Bang', 'Bang Bang Bang (BigBang song)', 'The Big Bang Theory season 3', 'The Big Bang Theory season 1']\n",
      "Science → Big Bang: 0.68\n",
      "🔍 Search for 'Covid-19 Pandemic' → ['COVID-19 pandemic', 'COVID-19 pandemic in the United States', 'COVID-19 pandemic deaths', 'Timeline of the COVID-19 pandemic', 'COVID-19 pandemic in Ontario', 'COVID-19 pandemic in India', 'COVID-19 pandemic in the United Kingdom', 'COVID-19 pandemic in Mexico', 'COVID-19 pandemic by country and territory', 'COVID-19 pandemic in Japan']\n",
      "Science → COVID-19 pandemic: 0.68\n",
      "🔍 Search for 'Vaccines' → ['Vaccine', 'The Vaccines', 'MRNA vaccine', 'COVID-19 vaccine', 'Vaccine hesitancy', 'Attenuated vaccine', 'Vaccines and autism', 'Polio vaccine', 'DPT vaccine', 'HPV vaccine']\n",
      "Science → Vaccines: 0.69\n",
      "🔍 Search for 'Crispr' → ['CRISPR', 'CRISPR gene editing', 'He Jiankui affair', 'Cas9', 'Jennifer Doudna', 'CRISPR Therapeutics', 'CRISPR activation', 'CRISPR RNA', 'Anti-CRISPR', 'Human Nature (2019 film)']\n",
      "Science → CRISPR: 0.69\n",
      "🔍 Search for 'Artificial Intelligence' → ['Artificial intelligence', 'Artificial general intelligence', 'History of artificial intelligence', 'Generative artificial intelligence', 'A.I. Artificial Intelligence', 'Applications of artificial intelligence', 'Music and artificial intelligence', 'Artificial intelligence art', 'Existential risk from artificial intelligence', 'Artificial intelligence in video games']\n",
      "Science → Artificial intelligence: 0.69\n",
      "🔍 Search for 'Nuclear Energy' → ['Nuclear power', 'Nuclear energy', 'Nuclear binding energy', 'Nuclear power in the United States', 'Nuclear program of Iran', 'Nuclear power in India', 'Nuclear power plant', 'Thorium-based nuclear power', 'Nuclear power in the United Kingdom', 'Nuclear power by country']\n",
      "Science → Nuclear energy: 0.69\n",
      "🔍 Search for 'Islam' → ['Islam', 'Islamism', 'Sunni Islam', 'Shia Islam', 'Islam Makhachev', 'Islam by country', 'Islam in India', 'Nation of Islam', 'Jesus in Islam', 'Muslims']\n",
      "Religion → Islam: 0.66\n",
      "🔍 Search for 'Christianity' → ['Christianity', 'Jewish Christianity', 'Christian denomination', 'Eastern Christianity', 'Early Christianity', 'Christianity by country', 'Reformed Christianity', 'Christianity in India', 'History of Christianity', 'Catholic Church']\n",
      "Religion → Christianity: 0.67\n",
      "🔍 Search for 'Judaism' → ['Judaism', 'Reform Judaism', 'Messianic Judaism', 'Rabbinic Judaism', 'Orthodox Judaism', 'Hasidic Judaism', 'Conservative Judaism', 'Karaite Judaism', 'Messiah in Judaism', 'Reconstructionist Judaism']\n",
      "Religion → Judaism: 0.68\n",
      "🔍 Search for 'Bible' → ['Bible', 'Hebrew Bible', 'Bible (disambiguation)', 'Bible Black', 'Gutenberg Bible', 'Bible study', 'Bible Belt', 'Old Testament', 'King James Version', 'Catholic Bible']\n",
      "Religion → Bible: 0.66\n",
      "🔍 Search for 'Quran' → ['Quran', 'Quranism', 'Quran (disambiguation)', 'Jesus in Islam', 'Criticism of the Quran', 'Prophets and messengers in Islam', 'List of chapters in the Quran', 'Violence in the Quran', 'History of the Quran', 'Early Quranic manuscripts']\n",
      "Religion → Quran: 0.67\n",
      "🔍 Search for 'Atheism' → ['Atheism', 'New Atheism', 'State atheism', 'Demographics of atheism', 'Practical atheism', 'Jewish atheism', 'Agnostic atheism', 'Negative and positive atheism', 'Implicit and explicit atheism', 'History of atheism']\n",
      "Religion → Atheism: 0.67\n",
      "🔍 Search for 'Pope Francis' → ['Pope Francis', 'Death and funeral of Pope Francis', 'List of pastoral visits of Pope Francis', 'Reactions to the death of Pope Francis', 'Theology of Pope Francis', 'Pope Francis and LGBTQ topics', 'Visit by Pope Francis to the Philippines', 'List of dignitaries at the funeral of Pope Francis', 'Cardinals created by Francis', 'Visit by Pope Francis to Canada']\n",
      "Religion → Pope Francis: 0.67\n",
      "🔍 Search for 'Creationism' → ['Creationism', 'Gap creationism', 'Young Earth creationism', 'Creation', 'Old Earth creationism', 'Intelligent design', 'Neo-creationism', 'Rejection of evolution by religious groups', 'Progressive creationism', 'History of creationism']\n",
      "Religion → Creationism: 0.67\n",
      "🔍 Search for 'Capitalism' → ['Capitalism', 'Late capitalism', 'Criticism of capitalism', 'Anarcho-capitalism', 'Anti-capitalism', 'Surveillance capitalism', 'State capitalism', 'Crony capitalism', 'History of capitalism', 'Rainbow capitalism']\n",
      "Economy → Capitalism: 0.68\n",
      "🔍 Search for 'Socialism' → ['Socialism', 'Democratic socialism', 'Nazism', 'Libertarian socialism', 'Social democracy', 'Party for Socialism and Liberation', 'National Socialism (disambiguation)', 'Utopian socialism', 'Christian socialism', 'Revolutionary socialism']\n",
      "Economy → Socialism: 0.69\n",
      "🔍 Search for 'Inflation' → ['Inflation', 'Cosmic inflation', '2021–2023 inflation surge', 'Inflation (disambiguation)', 'Inflation Reduction Act', 'Inflation swap', 'Inflation derivative', 'Inflationism', 'Eternal inflation', 'Body inflation']\n",
      "Economy → Inflation: 0.67\n",
      "🔍 Search for 'Recession' → ['Recession', 'Great Recession', 'List of recessions in the United States', 'COVID-19 recession', 'The Recession', '1973–1975 recession', '2025 stock market crash', 'Recession (disambiguation)', 'Sex recession', 'Recession shapes']\n",
      "Economy → Recession: 0.68\n",
      "🔍 Search for 'Stock Market' → ['Stock market', 'Nasdaq', 'Stock market crash', '2025 stock market crash', 'Stock market crashes in India', 'List of major stock exchanges', 'Stock market index', '2020 stock market crash', 'Market trend', 'List of countries by stock market capitalization']\n",
      "Economy → Stock market: 0.69\n",
      "🔍 Search for 'Cryptocurrency' → ['Cryptocurrency', 'Tether (cryptocurrency)', 'Legality of cryptocurrency by country or territory', 'Cryptocurrency exchange', 'Cryptocurrency bubble', 'List of cryptocurrencies', 'Cryptocurrency wallet', 'Cryptocurrency and crime', 'Kraken (cryptocurrency exchange)', '$Libra cryptocurrency scandal']\n",
      "Economy → Cryptocurrency: 0.69\n",
      "🔍 Search for 'Universal Basic Income' → ['Universal basic income', 'Universal basic income pilots', 'Universal basic income by country', 'Universal basic income in India', 'List of advocates of universal basic income', 'Universal basic income in Japan', 'Universal Basic Guys', 'Basic Income Party', 'Universal basic income in Canada', 'Universal basic income in Germany']\n",
      "Economy → Universal basic income: 0.68\n",
      "🔍 Search for 'Abortion' → ['Abortion', 'Abortion law', 'Abortion in the United States', 'Anti-abortion movements', 'Abortion-rights movement', 'History of abortion', 'Abortion debate', 'Abortion law in the United States by state', 'Miscarriage', 'Abortion in the United Kingdom']\n",
      "Social Issues → Abortion: 0.69\n",
      "🔍 Search for 'Gun Control' → ['Gun control', 'Overview of gun laws by nation', 'Gun politics in the United States', 'Ship gun fire-control system', 'Gun control in Germany', 'Gun laws of Australia', 'Gun Control Act of 1968', 'Nazi gun control argument', 'Firearms regulation in Canada', 'Gun law in India']\n",
      "Social Issues → Gun control: 0.67\n",
      "🔍 Search for 'Lgbt Rights' → ['LGBTQ rights by country or territory', 'LGBTQ rights in Russia', 'LGBTQ rights in the United States', 'LGBTQ rights in China', 'LGBTQ people and Islam', 'LGBTQ rights in Indonesia', 'LGBTQ rights in Canada', 'LGBTQ rights in the United Kingdom', 'LGBTQ rights in the Middle East', 'LGBTQ movements']\n",
      "Social Issues → LGBT rights: 0.67\n",
      "🔍 Search for 'Racism' → ['Racism', 'Scientific racism', 'Reverse racism', 'Racism by country', 'RAC', 'Hipster racism', 'Symbolic racism', 'Racal', 'Racism in Brazil', 'Anti-white racism']\n",
      "Social Issues → Racism: 0.68\n",
      "🔍 Search for 'Feminism' → ['Feminism', 'Radical feminism', 'History of feminism', 'Gender-critical feminism', 'Liberal feminism', 'Commodity feminism', 'Third-wave feminism', 'Fourth-wave feminism', 'Second-wave feminism', 'Postcolonial feminism']\n",
      "Social Issues → Feminism: 0.67\n",
      "🔍 Search for 'Gender Identity' → ['Gender identity', 'Gender dysphoria', 'Non-binary gender', 'Gender', 'List of gender identities', 'Gender identities in Thailand', 'Identity politics', 'Anti-gender movement', 'Legal status of transgender people', 'Cass Review']\n",
      "Social Issues → Gender identity: 0.68\n",
      "🔍 Search for 'Immigration' → ['Immigration', 'Immigration to the United States', 'Illegal immigration', 'Immigration Act of 1924', 'Immigration and crime', 'Opposition to immigration', 'Immigration Act', 'Immigration consultant', 'Immigration country', 'Immigration to Japan']\n",
      "Social Issues → Immigration: 0.67\n",
      "✅ Saved to scaled_bias_scores.csv\n"
     ]
    }
   ],
   "source": [
    "# Your topic dictionary\n",
    "topics_by_category = {\n",
    "    \"Politics\": [\"Joe Biden\", \"Donald Trump\", \"Democratic Party\", \"Republican Party\", \"Election fraud\", \"Impeachment\", \"NATO\", \"Vladimir Putin\"],\n",
    "    \"Science\": [\"Climate change\", \"Evolution\", \"Big Bang\", \"COVID-19 pandemic\", \"Vaccines\", \"CRISPR\", \"Artificial intelligence\", \"Nuclear energy\"],\n",
    "    \"Religion\": [\"Islam\", \"Christianity\", \"Judaism\", \"Bible\", \"Quran\", \"Atheism\", \"Pope Francis\", \"Creationism\"],\n",
    "    \"Economy\": [\"Capitalism\", \"Socialism\", \"Inflation\", \"Recession\", \"Stock market\", \"Cryptocurrency\", \"Universal basic income\"],\n",
    "    \"Social Issues\": [\"Abortion\", \"Gun control\", \"LGBT rights\", \"Racism\", \"Feminism\", \"Gender identity\", \"Immigration\"],\n",
    "}\n",
    "\n",
    "# Run and collect results\n",
    "all_results = []\n",
    "\n",
    "for category, topics in topics_by_category.items():\n",
    "    for topic in topics:\n",
    "        article = get_wikipedia_article(topic)\n",
    "        if article:\n",
    "            score = predict_article_bias(article)\n",
    "            print(f\"{category} → {topic}: {score}\")\n",
    "            all_results.append({\n",
    "                \"Category\": category,\n",
    "                \"Topic\": topic,\n",
    "                \"Bias Score\": score\n",
    "            })\n",
    "\n",
    "# Save results\n",
    "import pandas as pd\n",
    "df_all = pd.DataFrame(all_results)\n",
    "df_all.to_csv(\"scaled_bias_scores.csv\", index=False)\n",
    "print(\"✅ Saved to scaled_bias_scores.csv\")\n"
   ]
  },
  {
   "cell_type": "code",
   "execution_count": 38,
   "id": "665f64f1",
   "metadata": {},
   "outputs": [
    {
     "data": {
      "text/plain": [
       "Category\n",
       "Science          0.686250\n",
       "Economy          0.682857\n",
       "Social Issues    0.675714\n",
       "Religion         0.668750\n",
       "Politics         0.650000\n",
       "Name: Bias Score, dtype: float64"
      ]
     },
     "execution_count": 38,
     "metadata": {},
     "output_type": "execute_result"
    }
   ],
   "source": [
    "# Average Bias by Category\n",
    "df_all.groupby(\"Category\")[\"Bias Score\"].mean().sort_values(ascending=False)\n"
   ]
  },
  {
   "cell_type": "code",
   "execution_count": 39,
   "id": "1a314bfb",
   "metadata": {},
   "outputs": [
    {
     "data": {
      "text/html": [
       "<div>\n",
       "<style scoped>\n",
       "    .dataframe tbody tr th:only-of-type {\n",
       "        vertical-align: middle;\n",
       "    }\n",
       "\n",
       "    .dataframe tbody tr th {\n",
       "        vertical-align: top;\n",
       "    }\n",
       "\n",
       "    .dataframe thead th {\n",
       "        text-align: right;\n",
       "    }\n",
       "</style>\n",
       "<table border=\"1\" class=\"dataframe\">\n",
       "  <thead>\n",
       "    <tr style=\"text-align: right;\">\n",
       "      <th></th>\n",
       "      <th>Category</th>\n",
       "      <th>Topic</th>\n",
       "      <th>Bias Score</th>\n",
       "    </tr>\n",
       "  </thead>\n",
       "  <tbody>\n",
       "    <tr>\n",
       "      <th>5</th>\n",
       "      <td>Politics</td>\n",
       "      <td>Impeachment</td>\n",
       "      <td>0.58</td>\n",
       "    </tr>\n",
       "    <tr>\n",
       "      <th>2</th>\n",
       "      <td>Politics</td>\n",
       "      <td>Democratic Party</td>\n",
       "      <td>0.65</td>\n",
       "    </tr>\n",
       "    <tr>\n",
       "      <th>6</th>\n",
       "      <td>Politics</td>\n",
       "      <td>NATO</td>\n",
       "      <td>0.65</td>\n",
       "    </tr>\n",
       "    <tr>\n",
       "      <th>0</th>\n",
       "      <td>Politics</td>\n",
       "      <td>Joe Biden</td>\n",
       "      <td>0.66</td>\n",
       "    </tr>\n",
       "    <tr>\n",
       "      <th>3</th>\n",
       "      <td>Politics</td>\n",
       "      <td>Republican Party</td>\n",
       "      <td>0.66</td>\n",
       "    </tr>\n",
       "    <tr>\n",
       "      <th>1</th>\n",
       "      <td>Politics</td>\n",
       "      <td>Donald Trump</td>\n",
       "      <td>0.66</td>\n",
       "    </tr>\n",
       "    <tr>\n",
       "      <th>19</th>\n",
       "      <td>Religion</td>\n",
       "      <td>Bible</td>\n",
       "      <td>0.66</td>\n",
       "    </tr>\n",
       "    <tr>\n",
       "      <th>16</th>\n",
       "      <td>Religion</td>\n",
       "      <td>Islam</td>\n",
       "      <td>0.66</td>\n",
       "    </tr>\n",
       "    <tr>\n",
       "      <th>26</th>\n",
       "      <td>Economy</td>\n",
       "      <td>Inflation</td>\n",
       "      <td>0.67</td>\n",
       "    </tr>\n",
       "    <tr>\n",
       "      <th>23</th>\n",
       "      <td>Religion</td>\n",
       "      <td>Creationism</td>\n",
       "      <td>0.67</td>\n",
       "    </tr>\n",
       "  </tbody>\n",
       "</table>\n",
       "</div>"
      ],
      "text/plain": [
       "    Category             Topic  Bias Score\n",
       "5   Politics       Impeachment        0.58\n",
       "2   Politics  Democratic Party        0.65\n",
       "6   Politics              NATO        0.65\n",
       "0   Politics         Joe Biden        0.66\n",
       "3   Politics  Republican Party        0.66\n",
       "1   Politics      Donald Trump        0.66\n",
       "19  Religion             Bible        0.66\n",
       "16  Religion             Islam        0.66\n",
       "26   Economy         Inflation        0.67\n",
       "23  Religion       Creationism        0.67"
      ]
     },
     "execution_count": 39,
     "metadata": {},
     "output_type": "execute_result"
    }
   ],
   "source": [
    "# Show Top 10 Most and Least Biased Topics\n",
    "# Most biased\n",
    "df_all.sort_values(\"Bias Score\", ascending=False).head(10)\n",
    "\n",
    "# Least biased\n",
    "df_all.sort_values(\"Bias Score\").head(10)\n"
   ]
  },
  {
   "cell_type": "code",
   "execution_count": 40,
   "id": "45789cf5",
   "metadata": {},
   "outputs": [
    {
     "data": {
      "image/png": "[encoded data removed]",
      "text/plain": [
       "<Figure size 800x500 with 1 Axes>"
      ]
     },
     "metadata": {},
     "output_type": "display_data"
    }
   ],
   "source": [
    "# Plot It\n",
    "# Average Bias per Category:\n",
    "import matplotlib.pyplot as plt\n",
    "\n",
    "avg_scores = df_all.groupby(\"Category\")[\"Bias Score\"].mean()\n",
    "\n",
    "avg_scores.plot(kind='bar', color='coral', figsize=(8, 5), title='Average Bias Score per Category')\n",
    "plt.ylabel(\"Bias Score\")\n",
    "plt.ylim(0.5, 1)\n",
    "plt.grid(axis='y', linestyle='--', alpha=0.7)\n",
    "plt.tight_layout()\n",
    "plt.show()\n"
   ]
  },
  {
   "cell_type": "code",
   "execution_count": 47,
   "id": "bc7da4b1",
   "metadata": {},
   "outputs": [
    {
     "name": "stderr",
     "output_type": "stream",
     "text": [
      "Some weights of BertForSequenceClassification were not initialized from the model checkpoint at bert-base-uncased and are newly initialized: ['classifier.bias', 'classifier.weight']\n",
      "You should probably TRAIN this model on a down-stream task to be able to use it for predictions and inference.\n",
      "c:\\Users\\Rawaa\\OneDrive\\Documents\\GitHub\\Assessing-Wikipedia-Bias\\venv310\\lib\\site-packages\\torch\\utils\\data\\dataloader.py:665: UserWarning: 'pin_memory' argument is set as true but no accelerator is found, then device pinned memory won't be used.\n",
      "  warnings.warn(warn_msg)\n"
     ]
    },
    {
     "data": {
      "text/html": [
       "\n",
       "    <div>\n",
       "      \n",
       "      <progress value='200' max='200' style='width:300px; height:20px; vertical-align: middle;'></progress>\n",
       "      [200/200 31:16, Epoch 2/2]\n",
       "    </div>\n",
       "    <table border=\"1\" class=\"dataframe\">\n",
       "  <thead>\n",
       " <tr style=\"text-align: left;\">\n",
       "      <th>Step</th>\n",
       "      <th>Training Loss</th>\n",
       "    </tr>\n",
       "  </thead>\n",
       "  <tbody>\n",
       "    <tr>\n",
       "      <td>10</td>\n",
       "      <td>0.706600</td>\n",
       "    </tr>\n",
       "    <tr>\n",
       "      <td>20</td>\n",
       "      <td>0.702900</td>\n",
       "    </tr>\n",
       "    <tr>\n",
       "      <td>30</td>\n",
       "      <td>0.669400</td>\n",
       "    </tr>\n",
       "    <tr>\n",
       "      <td>40</td>\n",
       "      <td>0.645300</td>\n",
       "    </tr>\n",
       "    <tr>\n",
       "      <td>50</td>\n",
       "      <td>0.610800</td>\n",
       "    </tr>\n",
       "    <tr>\n",
       "      <td>60</td>\n",
       "      <td>0.629100</td>\n",
       "    </tr>\n",
       "    <tr>\n",
       "      <td>70</td>\n",
       "      <td>0.613300</td>\n",
       "    </tr>\n",
       "    <tr>\n",
       "      <td>80</td>\n",
       "      <td>0.618400</td>\n",
       "    </tr>\n",
       "    <tr>\n",
       "      <td>90</td>\n",
       "      <td>0.620900</td>\n",
       "    </tr>\n",
       "    <tr>\n",
       "      <td>100</td>\n",
       "      <td>0.657400</td>\n",
       "    </tr>\n",
       "    <tr>\n",
       "      <td>110</td>\n",
       "      <td>0.604700</td>\n",
       "    </tr>\n",
       "    <tr>\n",
       "      <td>120</td>\n",
       "      <td>0.573600</td>\n",
       "    </tr>\n",
       "    <tr>\n",
       "      <td>130</td>\n",
       "      <td>0.479400</td>\n",
       "    </tr>\n",
       "    <tr>\n",
       "      <td>140</td>\n",
       "      <td>0.551900</td>\n",
       "    </tr>\n",
       "    <tr>\n",
       "      <td>150</td>\n",
       "      <td>0.495800</td>\n",
       "    </tr>\n",
       "    <tr>\n",
       "      <td>160</td>\n",
       "      <td>0.518300</td>\n",
       "    </tr>\n",
       "    <tr>\n",
       "      <td>170</td>\n",
       "      <td>0.474400</td>\n",
       "    </tr>\n",
       "    <tr>\n",
       "      <td>180</td>\n",
       "      <td>0.551900</td>\n",
       "    </tr>\n",
       "    <tr>\n",
       "      <td>190</td>\n",
       "      <td>0.390100</td>\n",
       "    </tr>\n",
       "    <tr>\n",
       "      <td>200</td>\n",
       "      <td>0.420600</td>\n",
       "    </tr>\n",
       "  </tbody>\n",
       "</table><p>"
      ],
      "text/plain": [
       "<IPython.core.display.HTML object>"
      ]
     },
     "metadata": {},
     "output_type": "display_data"
    },
    {
     "data": {
      "text/plain": [
       "TrainOutput(global_step=200, training_loss=0.5767428231239319, metrics={'train_runtime': 1886.7911, 'train_samples_per_second': 0.848, 'train_steps_per_second': 0.106, 'total_flos': 210488844288000.0, 'train_loss': 0.5767428231239319, 'epoch': 2.0})"
      ]
     },
     "execution_count": 47,
     "metadata": {},
     "output_type": "execute_result"
    }
   ],
   "source": [
    "from transformers import BertTokenizer, BertForSequenceClassification, TrainingArguments, Trainer\n",
    "from sklearn.model_selection import train_test_split\n",
    "import torch\n",
    "import pandas as pd\n",
    "\n",
    "# Step 1: Prepare the DataFrame\n",
    "df_bert = df[['clean_text', 'label']].dropna().sample(n=1000, random_state=42)\n",
    "\n",
    "# Step 2: Split data\n",
    "train_texts, val_texts, train_labels, val_labels = train_test_split(\n",
    "    df_bert['clean_text'].tolist(),\n",
    "    df_bert['label'].tolist(),\n",
    "    test_size=0.2,\n",
    "    stratify=df_bert['label'],\n",
    "    random_state=42\n",
    ")\n",
    "\n",
    "# Step 3: Load tokenizer and tokenize text\n",
    "tokenizer = BertTokenizer.from_pretrained('bert-base-uncased')\n",
    "train_encodings = tokenizer(train_texts, truncation=True, padding=True, max_length=256)\n",
    "val_encodings = tokenizer(val_texts, truncation=True, padding=True, max_length=256)\n",
    "\n",
    "# Step 4: Dataset class\n",
    "class BiasDataset(torch.utils.data.Dataset):\n",
    "    def __init__(self, encodings, labels):\n",
    "        self.encodings = encodings\n",
    "        self.labels = labels\n",
    "    def __len__(self):\n",
    "        return len(self.labels)\n",
    "    def __getitem__(self, idx):\n",
    "        item = {key: torch.tensor(val[idx]) for key, val in self.encodings.items()}\n",
    "        item['labels'] = torch.tensor(self.labels[idx], dtype=torch.long)\n",
    "        return item\n",
    "\n",
    "train_dataset = BiasDataset(train_encodings, train_labels)\n",
    "val_dataset = BiasDataset(val_encodings, val_labels)\n",
    "\n",
    "# Step 5: Load BERT model\n",
    "model = BertForSequenceClassification.from_pretrained('bert-base-uncased', num_labels=2)\n",
    "\n",
    "# Step 6: Training arguments\n",
    "training_args = TrainingArguments(\n",
    "    output_dir='./results',\n",
    "    num_train_epochs=2,                      # Fewer epochs for quicker test runs\n",
    "    per_device_train_batch_size=8,\n",
    "    per_device_eval_batch_size=8,\n",
    "    logging_dir='./logs',\n",
    "    logging_steps=10,\n",
    "    do_eval=True                             # Enables evaluation between epochs\n",
    ")\n",
    "\n",
    "# Step 7: Trainer\n",
    "trainer = Trainer(\n",
    "    model=model,\n",
    "    args=training_args,\n",
    "    train_dataset=train_dataset,\n",
    "    eval_dataset=val_dataset\n",
    ")\n",
    "\n",
    "# Step 8: Train the model\n",
    "trainer.train()\n"
   ]
  },
  {
   "cell_type": "code",
   "execution_count": 50,
   "id": "c397ada9",
   "metadata": {},
   "outputs": [
    {
     "name": "stderr",
     "output_type": "stream",
     "text": [
      "[nltk_data] Downloading package punkt to C:\\Users\\Rawaa\\nltk_data...\n",
      "[nltk_data]   Package punkt is already up-to-date!\n"
     ]
    },
    {
     "data": {
      "text/plain": [
       "True"
      ]
     },
     "execution_count": 50,
     "metadata": {},
     "output_type": "execute_result"
    }
   ],
   "source": [
    "import nltk\n",
    "\n",
    "# Set download path and download punkt\n",
    "nltk.data.path.append(r\"C:\\Users\\Rawaa\\nltk_data\")  # Or any consistent directory\n",
    "nltk.download('punkt', download_dir=r\"C:\\Users\\Rawaa\\nltk_data\")\n"
   ]
  },
  {
   "cell_type": "code",
   "execution_count": 51,
   "id": "64a9964c",
   "metadata": {},
   "outputs": [],
   "source": [
    "from nltk.tokenize import sent_tokenize\n",
    "nltk.data.path.append(r\"C:\\Users\\Rawaa\\nltk_data\")\n"
   ]
  },
  {
   "cell_type": "code",
   "execution_count": 54,
   "id": "e1b0e55c",
   "metadata": {},
   "outputs": [],
   "source": [
    "import nltk\n",
    "from nltk.tokenize import sent_tokenize\n",
    "\n",
    "# Explicitly set the path to nltk_data\n",
    "nltk.data.path.clear()\n",
    "nltk.data.path.append(r\"C:\\Users\\Rawaa\\nltk_data\")\n",
    "\n",
    "# Now define the prediction function\n",
    "def predict_article_bias_bert(article_text):\n",
    "    sentences = sent_tokenize(article_text)\n",
    "    scores = [pipeline(s)[0][1]['score'] for s in sentences if len(s.strip()) > 5]\n",
    "    return round(sum(scores) / len(scores), 2) if scores else 0.0\n"
   ]
  },
  {
   "cell_type": "code",
   "execution_count": 3,
   "id": "05e67dc3",
   "metadata": {},
   "outputs": [
    {
     "name": "stderr",
     "output_type": "stream",
     "text": [
      "Some weights of BertForSequenceClassification were not initialized from the model checkpoint at bert-base-uncased and are newly initialized: ['classifier.bias', 'classifier.weight']\n",
      "You should probably TRAIN this model on a down-stream task to be able to use it for predictions and inference.\n",
      "Device set to use cpu\n",
      "c:\\Users\\Rawaa\\OneDrive\\Documents\\GitHub\\Assessing-Wikipedia-Bias\\venv310\\lib\\site-packages\\transformers\\pipelines\\text_classification.py:106: UserWarning: `return_all_scores` is now deprecated,  if want a similar functionality use `top_k=None` instead of `return_all_scores=True` or `top_k=1` instead of `return_all_scores=False`.\n",
      "  warnings.warn(\n"
     ]
    },
    {
     "name": "stdout",
     "output_type": "stream",
     "text": [
      "BERT Bias Score: 0.51\n"
     ]
    }
   ],
   "source": [
    "import pickle\n",
    "from pathlib import Path\n",
    "from transformers import pipeline, BertForSequenceClassification, BertTokenizer\n",
    "\n",
    "# Load model and tokenizer\n",
    "model_name = 'bert-base-uncased'  # or path to your fine-tuned model\n",
    "model = BertForSequenceClassification.from_pretrained(model_name, num_labels=2)\n",
    "tokenizer = BertTokenizer.from_pretrained(model_name)\n",
    "\n",
    "# Define pipeline\n",
    "bias_pipeline = pipeline(\"text-classification\", model=model, tokenizer=tokenizer, return_all_scores=True)\n",
    "\n",
    "# Load sentence tokenizer manually\n",
    "punkt_path = Path(r\"C:\\Users\\Rawaa\\OneDrive\\Documents\\GitHub\\Assessing-Wikipedia-Bias\\punkt\\english.pickle\")\n",
    "with open(punkt_path, \"rb\") as f:\n",
    "    sentence_tokenizer = pickle.load(f)\n",
    "\n",
    "# Define bias prediction function\n",
    "def predict_article_bias_bert(article_text):\n",
    "    sentences = sentence_tokenizer.tokenize(article_text)\n",
    "    scores = [bias_pipeline(s)[0][1]['score'] for s in sentences if len(s.strip()) > 5]  # Class 1 = biased\n",
    "    return round(sum(scores) / len(scores), 2) if scores else 0.0\n",
    "\n",
    "# Test example\n",
    "sample_text = \"\"\"\n",
    "The government implemented a policy change today. While some citizens praised the move, others expressed strong disapproval.\n",
    "This sparked heated debate among analysts, with conflicting opinions emerging from different news outlets.\n",
    "\"\"\"\n",
    "print(\"BERT Bias Score:\", predict_article_bias_bert(sample_text))\n"
   ]
  },
  {
   "cell_type": "markdown",
   "id": "45a97b6d",
   "metadata": {},
   "source": [
    "# Final Project Conclusion: Bias Detection in Wikipedia Articles\n",
    "\n",
    "## Objective\n",
    "The goal of this project was to build a machine learning pipeline to detect and evaluate linguistic bias in Wikipedia articles. The pipeline included:\n",
    "- Exploratory Data Analysis (EDA)\n",
    "- Text preprocessing\n",
    "- Training supervised models (CatBoost, BERT)\n",
    "- Scoring articles at sentence and article level\n",
    "- Real-world topic evaluation\n",
    "\n",
    "---\n",
    "\n",
    "## Exploratory Data Analysis (EDA)\n",
    "\n",
    "### Dataset Overview\n",
    "- Total entries: 2,095\n",
    "- Valid labeled articles: 2,094  \n",
    "  - Biased (Label 1): 1,294 (62%)  \n",
    "  - Unbiased (Label 0): 800 (38%)\n",
    "\n",
    "### Text Statistics\n",
    "- Mean article length: 484 words  \n",
    "- Median length: 304  \n",
    "- Max: 5,828  \n",
    "- Min: 1  \n",
    "- Distribution: Right-skewed with many short entries\n",
    "\n",
    "### Sentence Count\n",
    "- Most articles contained only 1–3 sentences after tokenization\n",
    "\n",
    "### Sentiment Analysis (VADER)\n",
    "- Biased articles: more extreme polarity (strong positive or negative)\n",
    "- Unbiased articles: more neutral distribution\n",
    "\n",
    "### Word Frequency (Post-Stopword Removal)\n",
    "- Biased articles: clinton, trump, said, hillary, campaign\n",
    "- Unbiased articles: media, election, president, get, trump\n",
    "\n",
    "---\n",
    "\n",
    "## Model Performance\n",
    "\n",
    "| Model               | Accuracy | Recall (Unbiased) | Recall (Biased) | ROC-AUC |\n",
    "|--------------------|----------|-------------------|------------------|---------|\n",
    "| Logistic Regression| 0.72     | 0.60              | 0.79             | 0.81    |\n",
    "| XGBoost            | 0.78     | 0.56              | 0.91             | 0.83    |\n",
    "| CatBoost           | 0.77     | 0.61              | 0.88             | 0.85    |\n",
    "| BERT (fine-tuned)  | 0.76     | 0.64              | 0.86             | 0.84    |\n",
    "\n",
    "CatBoost was selected for its strong balance of precision and recall. BERT was later fine-tuned for contextual understanding.\n",
    "\n",
    "---\n",
    "\n",
    "## Article-Level Bias Scoring\n",
    "\n",
    "Custom scoring function:\n",
    "1. Split article into sentences\n",
    "2. Preprocess and vectorize each sentence\n",
    "3. Predict and average bias probabilities\n",
    "\n",
    "Example:\n",
    "```python\n",
    "predict_article_bias(\"The government implemented a policy...\")\n",
    "# Bias Score → 0.70\n"
   ]
  },
  {
   "cell_type": "markdown",
   "id": "0147f5c5",
   "metadata": {},
   "source": [
    "## Strategic Recommendations for Wikipedia Based on Bias Detection Analysis\n",
    "\n",
    "Based on our findings from analyzing over 2,000 labeled Wikipedia articles and evaluating bias scores across key social, political, scientific, and religious topics, we provide the following recommendations to improve content neutrality, editorial quality, and public trust:\n",
    "\n",
    "### 1. Strengthen Editorial Guidelines Around Bias\n",
    "- **Contextual Polarity Monitoring**: Our analysis showed that biased articles tend to have higher sentiment polarity. Wikipedia should consider expanding guidelines to actively discourage emotionally charged or opinionated language.\n",
    "- **Sentence-Level Neutrality Checks**: Integrate sentence-level evaluations during the review process. Most biased patterns were visible at micro (sentence) level rather than macro (article) level.\n",
    "\n",
    "### 2. Adopt AI-Assisted Bias Detection Tools\n",
    "- **Internal Tooling**: Wikipedia could deploy tools like the CatBoost or BERT-based scoring models to flag potentially biased content for editorial review.\n",
    "- **Live Feedback for Contributors**: Implement real-time scoring for drafts, offering contributors suggestions to reduce bias before publishing.\n",
    "\n",
    "### 3. Prioritize Review of High-Risk Categories\n",
    "- **Focus on Social and Political Topics**: Categories like *Social Issues* (Bias Score: 0.676) and *Politics* (Bias Score: 0.650) were consistently more biased than *Science* or *Economy*. Articles in these domains may require more frequent moderation and higher sourcing standards.\n",
    "- **Controversial Topics First**: Topics like “Abortion”, “Donald Trump”, and “Racism” showed elevated bias scores. Establish tiered content review protocols for such entries.\n",
    "\n",
    "### 4. Expand Contributor Education\n",
    "- **Training Modules on Bias Awareness**: Provide interactive tutorials on how linguistic bias forms and how to avoid it.\n",
    "- **Model-Based Examples**: Use actual articles flagged by machine learning models as teaching tools during editor onboarding.\n",
    "\n",
    "### 5. Improve Metadata and Disambiguation Practices\n",
    "- During evaluation, several real-world topics failed due to API ambiguities or disambiguation page issues. Ensure:\n",
    "  - **Article titles align with common search phrases**\n",
    "  - **Redirects and metadata are regularly updated for trending or contested topics**\n",
    "\n",
    "### 6. Enable Multilingual Bias Auditing\n",
    "- Extend these efforts beyond English Wikipedia using multilingual models (e.g., XLM-R) to assess bias across editions and identify culturally rooted language disparities.\n",
    "\n",
    "### 7. Publish Transparency Reports\n",
    "- Regularly report on categories or topics with the highest flagged bias scores. This promotes accountability and public trust.\n",
    "\n",
    "---\n",
    "\n",
    "These recommendations aim to support Wikipedia’s mission of providing objective and verifiable information to a global audience by leveraging data science-driven insights.\n"
   ]
  }
 ],
 "metadata": {
  "kernelspec": {
   "display_name": "venv310",
   "language": "python",
   "name": "python3"
  },
  "language_info": {
   "codemirror_mode": {
    "name": "ipython",
    "version": 3
   },
   "file_extension": ".py",
   "mimetype": "text/x-python",
   "name": "python",
   "nbconvert_exporter": "python",
   "pygments_lexer": "ipython3",
   "version": "3.10.11"
  }
 },
 "nbformat": 4,
 "nbformat_minor": 5
}
